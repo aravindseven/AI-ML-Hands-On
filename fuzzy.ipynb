{
 "cells": [
  {
   "cell_type": "code",
   "execution_count": 18,
   "metadata": {},
   "outputs": [
    {
     "name": "stdout",
     "output_type": "stream",
     "text": [
      "75\n",
      "100\n",
      "100\n",
      "75\n"
     ]
    }
   ],
   "source": [
    "from fuzzywuzzy import fuzz \n",
    "# from fuzzywuzzy import process \n",
    "\n",
    "\n",
    "s2 = \"MEXICO\"\n",
    "s1 = \"new mexico\"\n",
    "a = fuzz.ratio(s1.lower(), s2.lower())\n",
    "print(a)\n",
    "a = fuzz.partial_ratio(s1.lower(), s2.lower())\n",
    "print(a)\n",
    "a = fuzz.token_set_ratio(s1.lower(), s2.lower())\n",
    "print(a)\n",
    "a = fuzz.token_sort_ratio(s1.lower(), s2.lower())\n",
    "print(a)"
   ]
  },
  {
   "cell_type": "code",
   "execution_count": null,
   "metadata": {},
   "outputs": [],
   "source": []
  },
  {
   "cell_type": "code",
   "execution_count": null,
   "metadata": {},
   "outputs": [],
   "source": []
  }
 ],
 "metadata": {
  "kernelspec": {
   "display_name": "ctpn",
   "language": "python",
   "name": "ctpn"
  },
  "language_info": {
   "codemirror_mode": {
    "name": "ipython",
    "version": 3
   },
   "file_extension": ".py",
   "mimetype": "text/x-python",
   "name": "python",
   "nbconvert_exporter": "python",
   "pygments_lexer": "ipython3",
   "version": "3.7.0"
  }
 },
 "nbformat": 4,
 "nbformat_minor": 2
}
