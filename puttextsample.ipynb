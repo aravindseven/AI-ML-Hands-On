{
 "cells": [
  {
   "cell_type": "code",
   "execution_count": null,
   "metadata": {},
   "outputs": [],
   "source": [
    "                # cv2.imshow(\"image\",original_image)\n",
    "#                 cv2.imshow(\"resimage\",original_image)\n",
    "#                 cv2.waitKey(0)\n",
    "#                 cv2.destroyAllWindows()\n",
    "\n",
    "#                 for idx,lbl in enumerate(lbls):\n",
    "#                     cv2.putText(frame, str(lbl), (x,y+offset*idx), cv2.FONT_HERSHEY_SIMPLEX, 1, (255,255,255), 2)\n",
    "                \n",
    "                #Display the image\n",
    "                \n",
    "                \n",
    "#                 cv2.imshow(\"Original_Image\",img)\n",
    "#                 cv2.waitKey(0)\n",
    "                \n",
    "#                 cv2.imshow(\"Output Text\",frame)\n",
    "#                 cv2.waitKey(0)\n",
    "                \n"
   ]
  }
 ],
 "metadata": {
  "kernelspec": {
   "display_name": "ctpn",
   "language": "python",
   "name": "ctpn"
  },
  "language_info": {
   "codemirror_mode": {
    "name": "ipython",
    "version": 3
   },
   "file_extension": ".py",
   "mimetype": "text/x-python",
   "name": "python",
   "nbconvert_exporter": "python",
   "pygments_lexer": "ipython3",
   "version": "3.7.0"
  }
 },
 "nbformat": 4,
 "nbformat_minor": 2
}
