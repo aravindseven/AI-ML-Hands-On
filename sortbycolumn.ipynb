{
 "cells": [
  {
   "cell_type": "code",
   "execution_count": 7,
   "metadata": {},
   "outputs": [
    {
     "name": "stdout",
     "output_type": "stream",
     "text": [
      "[[0 0 1]\n",
      " [1 2 3]\n",
      " [4 5 6]]\n"
     ]
    }
   ],
   "source": [
    "import numpy as np\n",
    "a = np.array([[1,2,3],[4,5,6],[0,0,1]])\n",
    "b = np.sort(a.view('i8,i8,i8'), order=['f1'], axis=0).view(np.int)\n",
    "print(b)"
   ]
  },
  {
   "cell_type": "code",
   "execution_count": 8,
   "metadata": {},
   "outputs": [
    {
     "ename": "SyntaxError",
     "evalue": "invalid syntax (<ipython-input-8-c9b85a1c821d>, line 4)",
     "output_type": "error",
     "traceback": [
      "\u001b[0;36m  File \u001b[0;32m\"<ipython-input-8-c9b85a1c821d>\"\u001b[0;36m, line \u001b[0;32m4\u001b[0m\n\u001b[0;31m    infile = [[720 549 896 549 896 582 720 582 0]\u001b[0m\n\u001b[0m                     ^\u001b[0m\n\u001b[0;31mSyntaxError\u001b[0m\u001b[0;31m:\u001b[0m invalid syntax\n"
     ]
    }
   ],
   "source": [
    "import numpy as np\n",
    "\n",
    "# let numpy guess the type with dtype=None\n",
    "infile = [[720 549 896 549 896 582 720 582 0]                                    \n",
    " [688  72 944  72 944 100 688 100   0]\n",
    " [240  70 368  70 368 102 240 102   0]\n",
    " [ 32 456 128 456 128 482  32 482   0]\n",
    " [176 455 320 455 320 481 176 481   0]\n",
    " [400 456 480 456 480 481 400 481   0]\n",
    " [240  32 848  32 848  69 240  69   0]\n",
    " [ 32 360 256 360 256 383  32 383   0]\n",
    " [ 32 231 320 231 320 261  32 261   0]\n",
    " [768 470 880 470 880 564 768 564   0]\n",
    " [ 32 265 144 265 144 288  32 288   0]\n",
    " [ 32 421 336 421 336 446  32 446   0]\n",
    " [ 32 201 624 201 624 228  32 228   0]\n",
    " [ 32 328 512 328 512 351  32 351   0]\n",
    " [720 514 768 514 768 553 720 553   0]\n",
    " [ 32 163 464 163 464 193  32 193   0]\n",
    " [ 32 296 336 296 336 320  32 320   0]\n",
    " [ 16 540 192 540 192 567  16 567   0]\n",
    " [672 501 720 501 720 569 672 569   0]\n",
    " [ 16 391 192 391 192 416  16 416   0]]\n",
    "my_data = np.genfromtxt(infile, dtype=None, names=[\"a\", \"b\", \"c\", \"d\",\"e\",\"f\",\"g\",\"h\",\"i\"])\n",
    "\n",
    "# access columns by name\n",
    "print(my_data[\"b\"]) # column 1\n",
    "\n",
    "# sort column 1 and column 0 \n",
    "my_data.sort(order=[\"b\"])\n",
    "\n",
    "print(my_data)"
   ]
  },
  {
   "cell_type": "code",
   "execution_count": null,
   "metadata": {},
   "outputs": [],
   "source": []
  }
 ],
 "metadata": {
  "kernelspec": {
   "display_name": "ctpn",
   "language": "python",
   "name": "ctpn"
  },
  "language_info": {
   "codemirror_mode": {
    "name": "ipython",
    "version": 3
   },
   "file_extension": ".py",
   "mimetype": "text/x-python",
   "name": "python",
   "nbconvert_exporter": "python",
   "pygments_lexer": "ipython3",
   "version": "3.7.0"
  }
 },
 "nbformat": 4,
 "nbformat_minor": 2
}
