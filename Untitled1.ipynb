{
 "cells": [
  {
   "cell_type": "code",
   "execution_count": 12,
   "metadata": {},
   "outputs": [
    {
     "name": "stdout",
     "output_type": "stream",
     "text": [
      "/home/nuc-obs-06/projects/text-detection-ctpn-banjin-dev/text-detection-ctpn-banjin-dev/data/output/9.wa_h_dlfrontheader-e1488594085498.png\n",
      "/home/nuc-obs-06/projects/text-detection-ctpn-banjin-dev/text-detection-ctpn-banjin-dev/data/output/5.WASH_DL_ijDr9Gn.jpg\n",
      "/home/nuc-obs-06/projects/text-detection-ctpn-banjin-dev/text-detection-ctpn-banjin-dev/data/output/3.DLsample-New-Adult-Standard-2018.png\n",
      "/home/nuc-obs-06/projects/text-detection-ctpn-banjin-dev/text-detection-ctpn-banjin-dev/data/output/2.WASHINGTON_20170218012025026_7344668_ver1.0_1280_720.jpg\n",
      "/home/nuc-obs-06/projects/text-detection-ctpn-banjin-dev/text-detection-ctpn-banjin-dev/data/output/1.washington-drivers-license-small.jpg\n",
      "/home/nuc-obs-06/projects/text-detection-ctpn-banjin-dev/text-detection-ctpn-banjin-dev/data/output/10.washington-commercial-drivers-license-small.jpg\n",
      "/home/nuc-obs-06/projects/text-detection-ctpn-banjin-dev/text-detection-ctpn-banjin-dev/data/output/6.DLsample-Old-Adult-Standard.jpg\n",
      "All Images displayed\n"
     ]
    }
   ],
   "source": [
    "import glob \n",
    "import cv2\n",
    "import sys\n",
    "from PIL import Image\n",
    "import pytesseract\n",
    "import numpy as np\n",
    "\n",
    "originFolder = \"/home/nuc-obs-06/projects/text-detection-ctpn-banjin-dev/text-detection-ctpn-banjin-dev/data/demo\"\n",
    "copyFolder = \"/home/nuc-obs-06/projects/text-detection-ctpn-banjin-dev/text-detection-ctpn-banjin-dev/data/output\"\n",
    "\n",
    "flag =0\n",
    "for img in glob.glob(originFolder+'/*.*'):\n",
    "#     print(img)\n",
    "    imageName = img.rsplit('/')[-1]\n",
    "#     print(imageName)\n",
    "    var_img = cv2.imread(img)\n",
    "    flag = flag+1\n",
    "#     img=cv2.imread(originFolder+'/'+img)\n",
    "    img = cv2.resize(var_img,(640,480))\n",
    "#     print(copyFolder+\"/\"+flag+\".jpg\")\n",
    "    path = copyFolder+\"/\"+imageName\n",
    "    print(path)\n",
    "    cv2.imwrite(path,img)\n",
    "print(\"All Images displayed\")\n",
    "    \n",
    "    \n",
    "    "
   ]
  },
  {
   "cell_type": "code",
   "execution_count": null,
   "metadata": {},
   "outputs": [],
   "source": []
  }
 ],
 "metadata": {
  "kernelspec": {
   "display_name": "SampleTest1",
   "language": "python",
   "name": "other-env"
  },
  "language_info": {
   "codemirror_mode": {
    "name": "ipython",
    "version": 3
   },
   "file_extension": ".py",
   "mimetype": "text/x-python",
   "name": "python",
   "nbconvert_exporter": "python",
   "pygments_lexer": "ipython3",
   "version": "3.7.4"
  }
 },
 "nbformat": 4,
 "nbformat_minor": 2
}
