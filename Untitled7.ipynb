{
 "cells": [
  {
   "cell_type": "code",
   "execution_count": 4,
   "metadata": {},
   "outputs": [
    {
     "name": "stdout",
     "output_type": "stream",
     "text": [
      "<ImagingCore object at 0x7fedaa45de50>\n"
     ]
    }
   ],
   "source": [
    "from PIL import Image\n",
    "\n",
    "black = (0,0,0)\n",
    "white = (255,255,255)\n",
    "threshold = (160,160,160)\n",
    "\n",
    "# Open input image in grayscale mode and get its pixels.\n",
    "img = Image.open(\"/home/nuc-obs-06/projects/Aravind/Test_Samples_Practice/us_samples/DataSets/resized_dataset/canada/canada_1.jpeg\").convert(\"LA\")\n",
    "pixels = img.getdata()\n",
    "print(pixels)\n",
    "\n",
    "newPixels = []\n",
    "\n",
    "# Compare each pixel \n",
    "for pixel in pixels:\n",
    "    if pixel < threshold:\n",
    "        newPixels.append(black)\n",
    "    else:\n",
    "        newPixels.append(white)\n",
    "\n",
    "# Create and save new image.\n",
    "newImg = Image.new(\"RGB\",img.size)\n",
    "newImg.putdata(newPixels)\n",
    "newImg.save(\"newImage.jpg\")"
   ]
  },
  {
   "cell_type": "code",
   "execution_count": null,
   "metadata": {},
   "outputs": [],
   "source": []
  }
 ],
 "metadata": {
  "kernelspec": {
   "display_name": "SampleTest1",
   "language": "python",
   "name": "other-env"
  },
  "language_info": {
   "codemirror_mode": {
    "name": "ipython",
    "version": 3
   },
   "file_extension": ".py",
   "mimetype": "text/x-python",
   "name": "python",
   "nbconvert_exporter": "python",
   "pygments_lexer": "ipython3",
   "version": "3.7.4"
  }
 },
 "nbformat": 4,
 "nbformat_minor": 2
}
