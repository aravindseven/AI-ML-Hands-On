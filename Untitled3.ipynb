{
 "cells": [
  {
   "cell_type": "code",
   "execution_count": 14,
   "metadata": {},
   "outputs": [],
   "source": [
    "import glob\n",
    "import cv2\n",
    "import os\n",
    "import imutils\n",
    "\n",
    "inputFolder = \"/home/nuc-obs-06/projects/Aravind/Test_Samples_Practice/us_samples/DataSets/original_dataset\"\n",
    "outputFolder = \"/home/nuc-obs-06/projects/Aravind/Test_Samples_Practice/us_samples/DataSets/resized_dataset\"\n",
    "dim = (350,230)\n",
    "width = 350\n",
    "height = 230\n",
    "inter = cv2.INTER_AREA\n",
    "for folder in os.listdir(inputFolder):\n",
    "    for imgName in os.listdir(inputFolder+\"/\"+folder):\n",
    "        image = cv2.imread(inputFolder+\"/\"+folder+\"/\"+imgName)\n",
    "        resized = cv2.resize(image, dim, interpolation = cv2.INTER_AREA)\n",
    "#         resized = imutils.resize(image, width=width)\n",
    "        if not os.path.exists(outputFolder+\"/\"+folder):\n",
    "            os.mkdir(outputFolder+\"/\"+folder)\n",
    "        cv2.imwrite(outputFolder+\"/\"+folder+\"/\"+imgName,resized)\n",
    "        cv2.waitKey(0)\n",
    "        cv2.destroyAllWindows()\n"
   ]
  },
  {
   "cell_type": "code",
   "execution_count": null,
   "metadata": {},
   "outputs": [],
   "source": []
  }
 ],
 "metadata": {
  "kernelspec": {
   "display_name": "SampleTest1",
   "language": "python",
   "name": "other-env"
  },
  "language_info": {
   "codemirror_mode": {
    "name": "ipython",
    "version": 3
   },
   "file_extension": ".py",
   "mimetype": "text/x-python",
   "name": "python",
   "nbconvert_exporter": "python",
   "pygments_lexer": "ipython3",
   "version": "3.7.4"
  }
 },
 "nbformat": 4,
 "nbformat_minor": 2
}
