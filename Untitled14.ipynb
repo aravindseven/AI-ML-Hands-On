{
 "cells": [
  {
   "cell_type": "code",
   "execution_count": 28,
   "metadata": {},
   "outputs": [
    {
     "name": "stdout",
     "output_type": "stream",
     "text": [
      "started at 18:04:13\n",
      "hello\n",
      "world\n",
      "finished at 18:04:16\n"
     ]
    }
   ],
   "source": [
    "#used asynco\n",
    "import asyncio\n",
    "import time\n",
    "\n",
    "async def say_after(delay, what):\n",
    "    await asyncio.sleep(delay)\n",
    "    print(what)\n",
    "\n",
    "async def main():\n",
    "    task1 = asyncio.create_task(\n",
    "        say_after(1, 'hello'))\n",
    "\n",
    "    task2 = asyncio.create_task(\n",
    "        say_after(3, 'world'))\n",
    "\n",
    "    print(f\"started at {time.strftime('%X')}\")\n",
    "\n",
    "    # Wait until both tasks are completed (should take\n",
    "    # around 2 seconds.)\n",
    "    await task1\n",
    "    await task2\n",
    "\n",
    "    print(f\"finished at {time.strftime('%X')}\")\n",
    "          \n",
    "await main()"
   ]
  },
  {
   "cell_type": "code",
   "execution_count": 29,
   "metadata": {},
   "outputs": [
    {
     "name": "stdout",
     "output_type": "stream",
     "text": [
      "started at 18:04:22\n",
      "world\n",
      "hello\n",
      "world\n",
      "world\n",
      "hello\n",
      "hello\n",
      "hello\n",
      "world\n",
      "finished at 18:04:25\n"
     ]
    }
   ],
   "source": [
    "#multi threading without for loop\n",
    "import threading\n",
    "import time\n",
    "\n",
    "def say_after(delay, what):\n",
    "    time.sleep(delay)\n",
    "    print(what)\n",
    "\n",
    "def main():\n",
    "    print(f\"started at {time.strftime('%X')}\")\n",
    "    t1 = threading.Thread(target=say_after, args=(3,'hello'))\n",
    "    t1.start()\n",
    "    t2 = threading.Thread(target=say_after, args=(3,'world'))\n",
    "    t2.start()\n",
    "    t3 = threading.Thread(target=say_after, args=(3,'hello'))\n",
    "    t3.start()\n",
    "    t4 = threading.Thread(target=say_after, args=(3,'world'))\n",
    "    t4.start()\n",
    "    t5 = threading.Thread(target=say_after, args=(3,'hello'))\n",
    "    t5.start()\n",
    "    t6 = threading.Thread(target=say_after, args=(3,'world'))\n",
    "    t6.start()\n",
    "    t7 = threading.Thread(target=say_after, args=(3,'hello'))\n",
    "    t7.start()\n",
    "    t8 = threading.Thread(target=say_after, args=(3,'world'))\n",
    "    t8.start()\n",
    "    \n",
    "\n",
    "    # Wait until both tasks are completed (should take\n",
    "    # around 2 seconds.)\n",
    "    t1.join()\n",
    "    t2.join()\n",
    "    t3.join()\n",
    "    t4.join()\n",
    "    t5.join()\n",
    "    t6.join()\n",
    "    t7.join()\n",
    "    t8.join()\n",
    "    print(f\"finished at {time.strftime('%X')}\")\n",
    "          \n",
    "main()"
   ]
  },
  {
   "cell_type": "code",
   "execution_count": 26,
   "metadata": {},
   "outputs": [
    {
     "name": "stdout",
     "output_type": "stream",
     "text": [
      "started at 14:45:49\n",
      "hello0\n",
      "hello1\n",
      "hello2\n",
      "hello3\n",
      "hello4\n",
      "hello5\n",
      "hello6\n",
      "hello7\n",
      "hello8\n",
      "hello9\n",
      "finished at 14:46:19\n"
     ]
    }
   ],
   "source": [
    "#for loop function call without multi threading\n",
    "import threading\n",
    "import time\n",
    "\n",
    "def say_after(delay, what):\n",
    "    time.sleep(delay)\n",
    "    print(what)\n",
    "\n",
    "def main():\n",
    "    print(f\"started at {time.strftime('%X')}\")\n",
    "    for i in range(0,10):\n",
    "        say_after(3,'hello'+str(i))\n",
    "    \n",
    "    print(f\"finished at {time.strftime('%X')}\")\n",
    "          \n",
    "main()"
   ]
  },
  {
   "cell_type": "code",
   "execution_count": 27,
   "metadata": {},
   "outputs": [
    {
     "name": "stdout",
     "output_type": "stream",
     "text": [
      "started at 14:46:38\n",
      "hello0hello0\n",
      "hello0\n",
      "hello0hello0\n",
      "hello0\n",
      "hello0\n",
      "\n",
      "hello0\n",
      "hello0\n",
      "hello0\n",
      "\n",
      "finished at 14:46:41\n"
     ]
    }
   ],
   "source": [
    "#For loop with multi threading\n",
    "import time\n",
    "import threading\n",
    "from threading import Thread\n",
    "\n",
    "def say_after(delay, what):\n",
    "    time.sleep(delay)\n",
    "    print(what)\n",
    "count = 0\n",
    "print(f\"started at {time.strftime('%X')}\")\n",
    "a = 0\n",
    "for i in range(0,10):\n",
    "    a = threading.Thread(target=say_after, args=(3,'hello'+str(i)))\n",
    "    a.start()\n",
    "a.join()\n",
    "print(f\"finished at {time.strftime('%X')}\")"
   ]
  },
  {
   "cell_type": "code",
   "execution_count": null,
   "metadata": {},
   "outputs": [],
   "source": []
  },
  {
   "cell_type": "code",
   "execution_count": null,
   "metadata": {},
   "outputs": [],
   "source": []
  },
  {
   "cell_type": "code",
   "execution_count": 21,
   "metadata": {},
   "outputs": [
    {
     "name": "stdout",
     "output_type": "stream",
     "text": [
      "The name of continent is :  Asia\n",
      "The name of continent is :  America\n",
      "The name of continent is :  Europe\n",
      "The name of continent is :  Africa\n"
     ]
    }
   ],
   "source": [
    "from multiprocessing import Process\n",
    "\n",
    "\n",
    "def print_func(continent='Asia'):\n",
    "    print('The name of continent is : ', continent)\n",
    "\n",
    "if __name__ == \"__main__\":  # confirms that the code is under main function\n",
    "    names = ['America', 'Europe', 'Africa']\n",
    "    procs = []\n",
    "    proc = Process(target=print_func)  # instantiating without any argument\n",
    "    procs.append(proc)\n",
    "    proc.start()\n",
    "\n",
    "    # instantiating process with arguments\n",
    "    for name in names:\n",
    "        # print(name)\n",
    "        proc = Process(target=print_func, args=(name,))\n",
    "        procs.append(proc)\n",
    "        proc.start()\n",
    "\n",
    "    # complete the processes\n",
    "    for proc in procs:\n",
    "        proc.join()"
   ]
  },
  {
   "cell_type": "code",
   "execution_count": 25,
   "metadata": {},
   "outputs": [
    {
     "name": "stdout",
     "output_type": "stream",
     "text": [
      "started at 14:44:59\n",
      "5\n",
      "0\n",
      "1\n",
      "3\n",
      "2\n",
      "6\n",
      "4\n",
      "9\n",
      "7\n",
      "8\n",
      "Complete\n",
      "finished at 14:45:05\n"
     ]
    }
   ],
   "source": [
    "import multiprocessing\n",
    "names = ['file1.csv', 'file2.csv']\n",
    "def multip(name):\n",
    "    time.sleep(3)\n",
    "    print(name)\n",
    "\n",
    "if __name__ == '__main__':\n",
    "    #use one less process to be a little more stable\n",
    "    p = multiprocessing.Pool(processes = multiprocessing.cpu_count()-1)\n",
    "    #timing it...\n",
    "    print(f\"started at {time.strftime('%X')}\")\n",
    "    for file in range(0,10):\n",
    "        p.apply_async(multip, [file])\n",
    "\n",
    "    p.close()\n",
    "    p.join()\n",
    "    print(\"Complete\")\n",
    "    print(f\"finished at {time.strftime('%X')}\")"
   ]
  },
  {
   "cell_type": "code",
   "execution_count": null,
   "metadata": {},
   "outputs": [],
   "source": []
  }
 ],
 "metadata": {
  "kernelspec": {
   "display_name": "ctpn",
   "language": "python",
   "name": "ctpn"
  },
  "language_info": {
   "codemirror_mode": {
    "name": "ipython",
    "version": 3
   },
   "file_extension": ".py",
   "mimetype": "text/x-python",
   "name": "python",
   "nbconvert_exporter": "python",
   "pygments_lexer": "ipython3",
   "version": "3.7.0"
  }
 },
 "nbformat": 4,
 "nbformat_minor": 2
}
