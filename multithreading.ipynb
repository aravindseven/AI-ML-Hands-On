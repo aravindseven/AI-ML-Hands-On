{
 "cells": [
  {
   "cell_type": "code",
   "execution_count": null,
   "metadata": {},
   "outputs": [],
   "source": [
    "import os\n",
    "import time\n",
    "import cv2\n",
    "\n",
    "start = time.time()\n",
    "print(\"For loop started !!\")\n",
    "for i in range(0, 10):\n",
    "    innerstart = time.time()\n",
    "    image = cv2.imread(\"test.jpeg\")\n",
    "    millis = int(round(time.time() * 1000))\n",
    "    cv2.imwrite(str(millis)+\"/test1.jpeg\", image)\n",
    "    time.sleep(0.2)\n",
    "    image = cv2.imread(\"test.jpeg\")\n",
    "    millis = int(round(time.time() * 1000))\n",
    "    cv2.imwrite(str(millis)+\"/test1.jpeg\", image)\n",
    "    print(\"Loop ended in {} seconds \".format(time.time() - innerstart))\n",
    "    \n",
    "    \n",
    "print(\"For loop execution time {} seconds\".format(time.time() - start))"
   ]
  },
  {
   "cell_type": "code",
   "execution_count": null,
   "metadata": {
    "scrolled": false
   },
   "outputs": [],
   "source": [
    "import os\n",
    "import time\n",
    "import cv2\n",
    "import threading\n",
    "\n",
    "def processloop():\n",
    "    innerstart = time.time()\n",
    "    image = cv2.imread(\"test.jpeg\")\n",
    "    millis = int(round(time.time() * 1000))\n",
    "    cv2.imwrite(str(millis)+\"/test1.jpeg\", image)\n",
    "    time.sleep(0.2)\n",
    "    image = cv2.imread(\"test.jpeg\")\n",
    "    millis = int(round(time.time() * 1000))\n",
    "    cv2.imwrite(str(millis)+\"/test1.jpeg\", image)\n",
    "    print(\"\\nprocess executed in {} seconds \".format(time.time() - innerstart))\n",
    "\n",
    "start = time.time()\n",
    "print(\"For loop started !!\")\n",
    "a = 0\n",
    "for i in range(0, 1000):\n",
    "    a = threading.Thread(target=processloop, args=())\n",
    "    a.start()\n",
    "a.join()\n",
    "    \n",
    "    \n",
    "print(\"For loop execution time {} seconds\".format(time.time() - start))"
   ]
  },
  {
   "cell_type": "code",
   "execution_count": null,
   "metadata": {},
   "outputs": [],
   "source": []
  }
 ],
 "metadata": {
  "kernelspec": {
   "display_name": "ctpn",
   "language": "python",
   "name": "ctpn"
  },
  "language_info": {
   "codemirror_mode": {
    "name": "ipython",
    "version": 3
   },
   "file_extension": ".py",
   "mimetype": "text/x-python",
   "name": "python",
   "nbconvert_exporter": "python",
   "pygments_lexer": "ipython3",
   "version": "3.7.0"
  }
 },
 "nbformat": 4,
 "nbformat_minor": 2
}
