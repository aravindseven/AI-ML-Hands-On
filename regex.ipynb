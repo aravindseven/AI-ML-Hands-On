{
 "cells": [
  {
   "cell_type": "code",
   "execution_count": 1,
   "metadata": {},
   "outputs": [
    {
     "name": "stdout",
     "output_type": "stream",
     "text": [
      "<re.Match object; span=(0, 10), match='14.01 1993'>\n",
      "14.01 1993\n"
     ]
    }
   ],
   "source": [
    "import re\n",
    "import datefinder\n",
    "s = \"Jason's birthday is on 04-03-1939\"\n",
    "s1 = \"Jason's birthday is on 04/03/1939\"\n",
    "s3 = \"14.01 1993\"\n",
    "s4 = \"14-01 1993\"\n",
    "s5 = \"21 06 1998\"\n",
    "s6 = \"07:06 2016\"\n",
    "s7 = \"bos 1-05-1995 |\"\n",
    "\n",
    "\n",
    "# match = re.search(r'\\d{2}[/-]|[\\s]\\d{2}[/-]|[\\s]\\d{4}', s3)\n",
    "# match1 = re.search(\"([0-9]{2}\\/[0-9]{2}\\/[0-9]{4})\", s1)\n",
    "# match3 = re.search(r'\\d{2}[\\/. -]\\d{2}[\\/. -]\\d{4}', s3)\n",
    "match4 = re.search(r'\\d{2}[\\/.: -]\\d{2}[\\/.: -]\\d{4}', s3)\n",
    "# print(match)\n",
    "# print(match1)\n",
    "# print(match3)\n",
    "print(match4)\n",
    "print(match4.group())\n",
    "# date = datetime.datetime.strptime(match.group(), '%Y-%m-%d').date()\n",
    "# print(date)\n",
    "\n",
    "matches4 = list(datefinder.find_dates(s3))\n",
    "\n",
    "\n",
    "if len(matches4) > 0:\n",
    "    # date returned will be a datetime.datetime object. here we are only using the first match.\n",
    "    date = matches4[0]\n",
    "    print(date)"
   ]
  },
  {
   "cell_type": "code",
   "execution_count": 2,
   "metadata": {},
   "outputs": [
    {
     "name": "stdout",
     "output_type": "stream",
     "text": [
      "No dates found\n",
      "1939-04-03 00:00:00\n",
      "2005-03-18 00:00:00\n",
      "2009-03-25 00:00:00\n",
      "No dates found\n"
     ]
    }
   ],
   "source": [
    "import datefinder\n",
    "s = \"Jason's birthday is on 04-03-1939\"\n",
    "s1 = \"Jason's birthday is on 04/03/1939\"\n",
    "s2 = \"Jason's birthday is on 2005/03/18\"\n",
    "s3 = \"Jason's birthday is on 2009-03-25\"\n",
    "s4 = \"Jason's birthday is on 2009-30-05\"\n",
    "s5 = \"008: 06-07-195° 2k F\"\n",
    "# a generator will be returned by the datefinder module. I'm typecasting it to a list. Please read the note of caution provided at the bottom.\n",
    "matches = list(datefinder.find_dates(s5))\n",
    "matches1 = list(datefinder.find_dates(s))\n",
    "matches2 = list(datefinder.find_dates(s2))\n",
    "matches3 = list(datefinder.find_dates(s3))\n",
    "matches4 = list(datefinder.find_dates(s4))\n",
    "\n",
    "\n",
    "if len(matches) > 0:\n",
    "    # date returned will be a datetime.datetime object. here we are only using the first match.\n",
    "    date = matches[0]\n",
    "    print(date)\n",
    "else:\n",
    "    print('No dates found')\n",
    "\n",
    "if len(matches1) > 0:\n",
    "    # date returned will be a datetime.datetime object. here we are only using the first match.\n",
    "    date = matches1[0]\n",
    "    print(date)\n",
    "else:\n",
    "    print('No dates found')\n",
    "    \n",
    "if len(matches2) > 0:\n",
    "    # date returned will be a datetime.datetime object. here we are only using the first match.\n",
    "    date = matches2[0]\n",
    "    print(date)\n",
    "else:\n",
    "    print('No dates found')\n",
    "    \n",
    "if len(matches3) > 0:\n",
    "    # date returned will be a datetime.datetime object. here we are only using the first match.\n",
    "    date = matches3[0]\n",
    "    print(date)\n",
    "else:\n",
    "    print('No dates found')\n",
    "    \n",
    "if len(matches4) > 0:\n",
    "    # date returned will be a datetime.datetime object. here we are only using the first match.\n",
    "    date = matches4[0]\n",
    "    print(date)\n",
    "else:\n",
    "    print('No dates found')"
   ]
  },
  {
   "cell_type": "code",
   "execution_count": 3,
   "metadata": {},
   "outputs": [
    {
     "name": "stdout",
     "output_type": "stream",
     "text": [
      " F \n",
      "Found\n"
     ]
    }
   ],
   "source": [
    "text = 'SEX F '\n",
    "text1 = ' F '\n",
    "text2 = \"Sexmfdsjfk M tachit jkdfjs\"\n",
    "# match = re.search(r'\\s\\w(?= )\\s',text1)\n",
    "match = re.search(r'\\s[M|F]\\s',text)\n",
    "if match:\n",
    "    print(match.group())\n",
    "    print (\"Found\")\n",
    "else:\n",
    "    print (\"Not Found\")\n",
    "    \n",
    "# str = 'SEX M '\n",
    "# match = re.search(r'SEX\\s\\W ', str)\n",
    "# # If-statement after search() tests if it succeeded\n",
    "# if match:\n",
    "#   print ('######found', match.group()) ## 'found word:cat'\n",
    "# else:\n",
    "#   print ('######did not find')"
   ]
  },
  {
   "cell_type": "code",
   "execution_count": null,
   "metadata": {},
   "outputs": [],
   "source": []
  },
  {
   "cell_type": "code",
   "execution_count": 4,
   "metadata": {},
   "outputs": [
    {
     "data": {
      "text/plain": [
       "[]"
      ]
     },
     "execution_count": 4,
     "metadata": {},
     "output_type": "execute_result"
    }
   ],
   "source": [
    "regex = re.compile(\"\\b([A-Z]{1}[a-z]+) ([A-Z]{1}[a-z]+)\\b\")\n",
    "string = \"Suddenly, Mary Poppins flew away with her umbrella Later in the day, John Johnson did something.\"\n",
    "regex.findall(string)"
   ]
  },
  {
   "cell_type": "code",
   "execution_count": 5,
   "metadata": {},
   "outputs": [
    {
     "name": "stdout",
     "output_type": "stream",
     "text": [
      "<re.Match object; span=(0, 39), match='Aravind Kumar G dsfsd dsf dfg g df sdf '>\n",
      "Aravind Kumar G dsfsd dsf dfg g df sdf \n",
      "Found\n"
     ]
    }
   ],
   "source": [
    "text = 'Aravind Kumar G dsfsd dsf dfg g df sdf '\n",
    "match = re.match('([A-Za-z]+[ ]{0,3})+$',text)\n",
    "print(match)\n",
    "# /^[a-zA-Z].*[\\s\\.]*$/\n",
    "# '^(?![\\s.]+$)[a-zA-Z\\s.]*$'\n",
    "# space limitation\n",
    "# ^([^\\s]*[\\s]?[^\\s]*){0,2}$\n",
    "if match:\n",
    "    print(match.group())\n",
    "    print (\"Found\")\n",
    "else:\n",
    "    print (\"Not Found\")\n"
   ]
  },
  {
   "cell_type": "code",
   "execution_count": 6,
   "metadata": {},
   "outputs": [
    {
     "name": "stdout",
     "output_type": "stream",
     "text": [
      "['07', '06', '2016']\n"
     ]
    }
   ],
   "source": [
    "s3 = \"14.01 1993\"\n",
    "s4 = \"14-01 1993\"\n",
    "s5 = \"21 06 1998\"\n",
    "s6 = \"07:06 2016\"\n",
    "data = re.split(\"[\\/.: -]\", s6)\n",
    "print(data)"
   ]
  },
  {
   "cell_type": "code",
   "execution_count": null,
   "metadata": {},
   "outputs": [],
   "source": []
  },
  {
   "cell_type": "code",
   "execution_count": 7,
   "metadata": {},
   "outputs": [
    {
     "name": "stdout",
     "output_type": "stream",
     "text": [
      "<re.Match object; span=(0, 10), match='LN adhads '>\n"
     ]
    }
   ],
   "source": [
    "# US SAMPLES NAME REGEX\n",
    "s = \"LN adhads \"\n",
    "match = re.match('^(?![\\s.]+$)[\\d]{0,1}[a-zA-Z\\s.]*$',s)\n",
    "print(match)\n"
   ]
  },
  {
   "cell_type": "code",
   "execution_count": 8,
   "metadata": {},
   "outputs": [
    {
     "name": "stdout",
     "output_type": "stream",
     "text": [
      "<re.Match object; span=(0, 2), match='LN'>\n"
     ]
    }
   ],
   "source": [
    " match = re.match(r'LN', 'LN fdsfbjksdfkj') # found, match.group() == \"piii\"\n",
    "print(match)"
   ]
  },
  {
   "cell_type": "code",
   "execution_count": null,
   "metadata": {},
   "outputs": [],
   "source": []
  },
  {
   "cell_type": "code",
   "execution_count": 9,
   "metadata": {},
   "outputs": [
    {
     "ename": "SyntaxError",
     "evalue": "invalid syntax (<ipython-input-9-82790b61abb2>, line 4)",
     "output_type": "error",
     "traceback": [
      "\u001b[0;36m  File \u001b[0;32m\"<ipython-input-9-82790b61abb2>\"\u001b[0;36m, line \u001b[0;32m4\u001b[0m\n\u001b[0;31m    print(s.startswith('Ln' || 'the'))\u001b[0m\n\u001b[0m                             ^\u001b[0m\n\u001b[0;31mSyntaxError\u001b[0m\u001b[0;31m:\u001b[0m invalid syntax\n"
     ]
    }
   ],
   "source": [
    "s = 'the Ln is Awesome'\n",
    "print(s.upper())\n",
    "# without start and end\n",
    "print(s.startswith('Ln' || 'the'))"
   ]
  },
  {
   "cell_type": "code",
   "execution_count": null,
   "metadata": {},
   "outputs": [],
   "source": [
    "name = \" KURT  @4 5#DONALD '\"\n",
    "\n",
    "name = re.sub(r\"^\\W+\", \"\", name)\n",
    "print(name)"
   ]
  },
  {
   "cell_type": "code",
   "execution_count": 10,
   "metadata": {},
   "outputs": [
    {
     "name": "stdout",
     "output_type": "stream",
     "text": [
      "<re.Match object; span=(6, 16), match='07-11-1980'>\n"
     ]
    }
   ],
   "source": [
    "s7 = \"[DO8: 07-11-1980 SEX: M\"\n",
    "\n",
    "\n",
    "# match = re.search(r'\\d{2}[/-]|[\\s]\\d{2}[/-]|[\\s]\\d{4}', s3)\n",
    "# match1 = re.search(\"([0-9]{2}\\/[0-9]{2}\\/[0-9]{4})\", s1)\n",
    "# match3 = re.search(r'\\d{2}[\\/. -]\\d{2}[\\/. -]\\d{4}', s3)\n",
    "match4 = re.search(r'\\d{1,2}[\\/.: -]\\d{1,2}[\\/.: -]\\d{4}', s7)\n",
    "print(match4)\n",
    "\n",
    "matches4 = list(datefinder.find_dates(s7))\n",
    "\n",
    "\n",
    "if len(matches4) > 0:\n",
    "    # date returned will be a datetime.datetime object. here we are only using the first match.\n",
    "    date = matches4[0]\n",
    "    print(date)"
   ]
  },
  {
   "cell_type": "code",
   "execution_count": null,
   "metadata": {},
   "outputs": [],
   "source": []
  }
 ],
 "metadata": {
  "kernelspec": {
   "display_name": "Python (classifier)",
   "language": "python",
   "name": "classifier"
  },
  "language_info": {
   "codemirror_mode": {
    "name": "ipython",
    "version": 3
   },
   "file_extension": ".py",
   "mimetype": "text/x-python",
   "name": "python",
   "nbconvert_exporter": "python",
   "pygments_lexer": "ipython3",
   "version": "3.7.0"
  }
 },
 "nbformat": 4,
 "nbformat_minor": 2
}
