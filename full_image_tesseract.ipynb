{
 "cells": [
  {
   "cell_type": "code",
   "execution_count": 1,
   "metadata": {},
   "outputs": [
    {
     "name": "stdout",
     "output_type": "stream",
     "text": [
      "(350, 230)\n",
      "(230, 350, 3)\n",
      "Tesseract Output  CHIARA\n",
      "###########################################\n",
      "(350, 230)\n",
      "(230, 350, 3)\n",
      "Tesseract Output  \n",
      "###########################################\n"
     ]
    }
   ],
   "source": [
    "import numpy as np\n",
    "import cv2\n",
    "import matplotlib.pyplot as plt\n",
    "from PIL import Image\n",
    "import pytesseract\n",
    "import os\n",
    "\n",
    "import os\n",
    "\n",
    "inputFolder = \"/home/nuc-obs-06/projects/text-detection-ctpn-banjin-dev/text-detection-ctpn-banjin-dev/data/demo/\"\n",
    "# inputFolder = \"/home/nuc-obs-06/projects/Aravind/Test_Samples_Practice/us_samples/DataSets/original_dataset/canada\"\n",
    "config = ('-l eng --oem 1 --psm 3')\n",
    "for image in os.listdir(inputFolder):\n",
    "    img1 = Image.open(inputFolder+\"/\"+image)\n",
    "    size = img1.size\n",
    "    print(size)\n",
    "    img = cv2.imread(inputFolder+\"/\"+image)\n",
    "    print(img.shape)\n",
    "    img = cv2.cvtColor(img, cv2.COLOR_BGR2GRAY)\n",
    "#     img = cv2.fastNlMeansDenoising(img_gray, img1, 30.0, 7, 21);\n",
    "    (thresh, img) = cv2.threshold(img, 150, 255, cv2.THRESH_BINARY)\n",
    "#     cv2.imshow(\"original Image\",img)\n",
    "#     cv2.waitKey(0)\n",
    "#     cv2.destroyAllWindows()\n",
    "#     print(img.shape)\n",
    "    output = pytesseract.image_to_string(Image.fromarray(img))\n",
    "    print(\"Tesseract Output \",output)\n",
    "    print(\"###########################################\")\n",
    "    \n",
    "\n",
    "\n"
   ]
  },
  {
   "cell_type": "code",
   "execution_count": 6,
   "metadata": {},
   "outputs": [
    {
     "name": "stdout",
     "output_type": "stream",
     "text": [
      "(350, 230)\n",
      "(230, 350, 3)\n",
      "Tesseract Output  HARA\n",
      "###########################################\n",
      "(350, 230)\n",
      "(230, 350, 3)\n",
      "Tesseract Output  IDALIMONTE\n",
      "###########################################\n"
     ]
    }
   ],
   "source": [
    "import numpy as np\n",
    "import cv2\n",
    "import matplotlib.pyplot as plt\n",
    "from PIL import Image\n",
    "import pytesseract\n",
    "import os\n",
    "\n",
    "import os\n",
    "\n",
    "inputFolder = \"/home/nuc-obs-06/projects/text-detection-ctpn-banjin-dev/text-detection-ctpn-banjin-dev/data/demo/\"\n",
    "# inputFolder = \"/home/nuc-obs-06/projects/Aravind/Test_Samples_Practice/us_samples/DataSets/original_dataset/canada\"\n",
    "config = ('-l eng --oem 1 --psm 3')\n",
    "for image in os.listdir(inputFolder):\n",
    "    img1 = Image.open(inputFolder+\"/\"+image)\n",
    "    size = img1.size\n",
    "    print(size)\n",
    "    img = cv2.imread(inputFolder+\"/\"+image)\n",
    "    print(img.shape)\n",
    "    img = cv2.cvtColor(img, cv2.COLOR_BGR2GRAY)\n",
    "#     img = cv2.fastNlMeansDenoising(img_gray, img1, 30.0, 7, 21);\n",
    "    (thresh, img) = cv2.threshold(img, 130, 255, cv2.THRESH_BINARY)\n",
    "#     cv2.imshow(\"original Image\",img)\n",
    "#     cv2.waitKey(0)\n",
    "#     cv2.destroyAllWindows()\n",
    "#     print(img.shape)\n",
    "    output = pytesseract.image_to_string(Image.fromarray(img))\n",
    "    print(\"Tesseract Output \",output)\n",
    "    print(\"###########################################\")\n",
    "    \n",
    "\n",
    "\n"
   ]
  },
  {
   "cell_type": "code",
   "execution_count": 18,
   "metadata": {},
   "outputs": [
    {
     "data": {
      "text/plain": [
       "<matplotlib.image.AxesImage at 0x7f5310949110>"
      ]
     },
     "execution_count": 18,
     "metadata": {},
     "output_type": "execute_result"
    },
    {
     "data": {
      "image/png": "[encoded data removed]",
      "text/plain": [
       "<Figure size 432x288 with 1 Axes>"
      ]
     },
     "metadata": {
      "needs_background": "light"
     },
     "output_type": "display_data"
    }
   ],
   "source": [
    "plt.imshow(img)"
   ]
  },
  {
   "cell_type": "code",
   "execution_count": null,
   "metadata": {},
   "outputs": [],
   "source": []
  }
 ],
 "metadata": {
  "kernelspec": {
   "display_name": "SampleTest1",
   "language": "python",
   "name": "other-env"
  },
  "language_info": {
   "codemirror_mode": {
    "name": "ipython",
    "version": 3
   },
   "file_extension": ".py",
   "mimetype": "text/x-python",
   "name": "python",
   "nbconvert_exporter": "python",
   "pygments_lexer": "ipython3",
   "version": "3.7.4"
  }
 },
 "nbformat": 4,
 "nbformat_minor": 2
}
