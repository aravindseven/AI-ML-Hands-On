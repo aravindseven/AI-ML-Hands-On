{
 "cells": [
  {
   "cell_type": "code",
   "execution_count": 1,
   "metadata": {},
   "outputs": [
    {
     "name": "stdout",
     "output_type": "stream",
     "text": [
      "8florisa.png\n",
      "Tesseract Output Gaussian Threshold  [CHIARA]\n",
      "Tesseract Output  [CHIARA]\n"
     ]
    }
   ],
   "source": [
    "import cv2\n",
    "from PIL import Image\n",
    "import pytesseract\n",
    "import os\n",
    "\n",
    "# inputImage = \"/home/nuc-obs-06/projects/text-detection-ctpn-banjin-dev/text-detection-ctpn-banjin-dev/data/bounded_images/1\"\n",
    "inputImage = \"/home/nuc-obs-06/projects/Aravind/Workspace/sample_data/detector_opdata\"\n",
    "for imgName in os.listdir(inputImage):\n",
    "    print(imgName)\n",
    "    img = cv2.imread(inputImage+\"/\"+imgName)\n",
    "    img = cv2.cvtColor(img, cv2.COLOR_BGR2GRAY)\n",
    "    resized_area = cv2.resize(img, None, fx=0.5, fy=0.5, interpolation=cv2.INTER_AREA)\n",
    "    cv2.imshow(\"Resized Area\",resized_area)\n",
    "\n",
    "    # inter_cubic = cv2.resize(img, None, fx=2, fy=2, interpolation=cv2.INTER_CUBIC)\n",
    "    # cv2.imshow(\"INTER_CUBIC\",inter_cubic)\n",
    "\n",
    "    # inter_linear = cv2.resize(img, None, fx=2, fy=2, interpolation=cv2.INTER_LINEAR)\n",
    "    # cv2.imshow(\"inter_linear\",inter_linear)\n",
    "\n",
    "    # Blurring\n",
    "\n",
    "    # avg_blur = cv2.blur(img,(5,5))\n",
    "    # cv2.imshow(\"avg_blur\",avg_blur)\n",
    "\n",
    "    # gauus_blurimg = cv2.GaussianBlur(img, (5, 5), 0)\n",
    "    # cv2.imshow(\"gauus_blurimg\",gauus_blurimg)\n",
    "\n",
    "    # m_blur = cv2.medianBlur(img, 3)\n",
    "    # cv2.imshow(\"medianBlur\",m_blur)\n",
    "\n",
    "    # bl_blur = cv.bilateralFilter(img,9,75,75)\n",
    "    # cv2.imshow(\"bilateralFilter\",bl_blur)\n",
    "\n",
    "\n",
    "    #Threshold\n",
    "\n",
    "    (thresh, img1) = cv2.threshold(img, 127, 255, cv2.THRESH_BINARY)\n",
    "    cv2.imshow(\"img1\",img1)\n",
    "\n",
    "    # (thresh, img2) = cv2.threshold(img, 0, 255, cv2.THRESH_BINARY + cv2.THRESH_OTSU)[1]\n",
    "    # cv2.imshow(\"img2\",img2)\n",
    "\n",
    "    # img2 = cv2.adaptiveThreshold(img,255,cv2.ADAPTIVE_THRESH_MEAN_C,cv2.THRESH_BINARY,11,2)\n",
    "    # cv2.imshow(\"immeang3\",img2)\n",
    "\n",
    "    img3 = cv2.adaptiveThreshold(img, 255, cv2.ADAPTIVE_THRESH_GAUSSIAN_C, cv2.THRESH_BINARY, 31, 2)\n",
    "    cv2.imshow(\"img3\",img3)\n",
    "\n",
    "    # ret2,th2 = cv2.threshold(img,0,255,cv2.THRESH_BINARY+cv2.THRESH_OTSU)\n",
    "    # cv2.imshow(\"th2\",th2)\n",
    "\n",
    "\n",
    "\n",
    "\n",
    "\n",
    "    cv2.imshow(\"original Image\",img)\n",
    "    cv2.waitKey(0)\n",
    "    cv2.destroyAllWindows()\n",
    "    # output = pytesseract.image_to_string(Image.fromarray(th2))\n",
    "    # print(\"Tesseract Output Mean Threshold \",output)\n",
    "    config = ('-l eng --oem 1 --psm 3')\n",
    "    output = pytesseract.image_to_string(Image.fromarray(img3))\n",
    "    print(\"Tesseract Output Gaussian Threshold \",output)\n",
    "    \n",
    "    output = pytesseract.image_to_string(img3, config=config)\n",
    "    print(\"Tesseract Output \",output)"
   ]
  },
  {
   "cell_type": "code",
   "execution_count": null,
   "metadata": {},
   "outputs": [],
   "source": []
  },
  {
   "cell_type": "code",
   "execution_count": null,
   "metadata": {},
   "outputs": [],
   "source": []
  }
 ],
 "metadata": {
  "kernelspec": {
   "display_name": "SampleTest1",
   "language": "python",
   "name": "other-env"
  },
  "language_info": {
   "codemirror_mode": {
    "name": "ipython",
    "version": 3
   },
   "file_extension": ".py",
   "mimetype": "text/x-python",
   "name": "python",
   "nbconvert_exporter": "python",
   "pygments_lexer": "ipython3",
   "version": "3.7.4"
  }
 },
 "nbformat": 4,
 "nbformat_minor": 2
}
