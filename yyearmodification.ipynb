{
 "cells": [
  {
   "cell_type": "code",
   "execution_count": 25,
   "metadata": {},
   "outputs": [
    {
     "name": "stdout",
     "output_type": "stream",
     "text": [
      "2019 11 1 18 8 4\n",
      "['1', '8', '5', '2']\n",
      "1\n",
      "8\n",
      "5\n",
      "2\n",
      "before first if\n",
      "1852\n"
     ]
    }
   ],
   "source": [
    "import datetime\n",
    "\n",
    "tempfirstDigit = 0\n",
    "tempsecondDigit = 0\n",
    "tempthirdDigit = 0\n",
    "\n",
    "def yearModification(detectedYear,currentYear):\n",
    "    newYear = detectedYear\n",
    "    year_value = list(detectedYear)\n",
    "    try:\n",
    "        print(year_value)\n",
    "        firstDigit = int(year_value[0])\n",
    "        secondDigit = int(year_value[1])\n",
    "        thirdDigit = int(year_value[2])\n",
    "        fourthDigit = int(year_value[3])\n",
    "        print(firstDigit)\n",
    "        print(secondDigit)\n",
    "        print(thirdDigit)\n",
    "        print(fourthDigit)\n",
    "        print(\"before first if\")\n",
    "        if firstDigit >= 2:\n",
    "            print(\"Date first digit is greater than 3\")\n",
    "            if firstDigit == 6 or firstDigit == 9 or firstDigit == 8 or firstDigit == 5 or firstDigit == 3:\n",
    "                tempfirstDigit = 2\n",
    "            elif firstDigit == 4 or firstDigit == 7 :\n",
    "                tempfirstDigit = 1\n",
    "            else:\n",
    "                tempfirstDigit = firstDigit\n",
    "            print(\"jksdkjfh\")\n",
    "            print(tempfirstDigit)\n",
    "            print(secondDigit)\n",
    "            print(thirdDigit)\n",
    "            print(fourthDigit)\n",
    "            newYear = str(tempfirstDigit)+str(secondDigit)+str(thirdDigit)+str(fourthDigit)\n",
    "            print()\n",
    "            \n",
    "            if int(newYear) > currentYear:\n",
    "                #check the second digit\n",
    "                if tempfirstDigit == 2:\n",
    "                    tempsecondDigit = 0\n",
    "                else:\n",
    "                    tempsecondDigit = 9\n",
    "                \n",
    "                newYear = str(tempfirstDigit)+str(tempsecondDigit)+str(thirdDigit)+str(fourthDigit)\n",
    "                \n",
    "                #again check because scenrio like 2066\n",
    "                if int(newYear) > currentYear:\n",
    "                    #check the third digit\n",
    "                    if tempfirstDigit == 2:\n",
    "                        tempthirdDigit = 0\n",
    "                        \n",
    "                    newYear = str(tempfirstDigit)+str(tempsecondDigit)+str(tempthirdDigit)+str(fourthDigit)\n",
    "        return newYear\n",
    "    except Exception as e:\n",
    "        return \"2014\"\n",
    "\n",
    "now = datetime.datetime.now()\n",
    "print(now.year, now.month, now.day, now.hour, now.minute, now.second)\n",
    "currentYear = now.year\n",
    "newYear = yearModification(\"1852\",currentYear)\n",
    "print(newYear)"
   ]
  },
  {
   "cell_type": "code",
   "execution_count": 26,
   "metadata": {},
   "outputs": [
    {
     "name": "stdout",
     "output_type": "stream",
     "text": [
      "2019 11 1 18 8 10\n",
      "1965\n"
     ]
    }
   ],
   "source": [
    "def yearBackwardModification(detectedYear,currentYear):\n",
    "    newYear = detectedYear\n",
    "    year_value = list(detectedYear)\n",
    "    try:\n",
    "        firstDigit = 1\n",
    "        secondDigit = 9\n",
    "        thirdDigit = int(year_value[2])\n",
    "        fourthDigit = int(year_value[3])\n",
    "        newYear = str(firstDigit)+str(secondDigit)+str(thirdDigit)+str(fourthDigit)\n",
    "        return newYear\n",
    "    except Exception as e:\n",
    "        return \"2014\"\n",
    "    \n",
    "now = datetime.datetime.now()\n",
    "print(now.year, now.month, now.day, now.hour, now.minute, now.second)\n",
    "currentYear = now.year\n",
    "newYear = yearBackwardModification(\"1565\",currentYear)\n",
    "print(newYear)"
   ]
  },
  {
   "cell_type": "code",
   "execution_count": null,
   "metadata": {},
   "outputs": [],
   "source": []
  }
 ],
 "metadata": {
  "kernelspec": {
   "display_name": "ctpn",
   "language": "python",
   "name": "ctpn"
  },
  "language_info": {
   "codemirror_mode": {
    "name": "ipython",
    "version": 3
   },
   "file_extension": ".py",
   "mimetype": "text/x-python",
   "name": "python",
   "nbconvert_exporter": "python",
   "pygments_lexer": "ipython3",
   "version": "3.7.0"
  }
 },
 "nbformat": 4,
 "nbformat_minor": 2
}
