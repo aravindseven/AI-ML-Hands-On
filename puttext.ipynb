{
 "cells": [
  {
   "cell_type": "code",
   "execution_count": null,
   "metadata": {},
   "outputs": [],
   "source": [
    "import numpy as np\n",
    "import cv2\n",
    "\n",
    "# Create a black image\n",
    "img = np.zeros((512,512,3), np.uint8)\n",
    "\n",
    "# Write some Text\n",
    "\n",
    "font                   = cv2.FONT_HERSHEY_SIMPLEX\n",
    "bottomLeftCornerOfText = (10,50)\n",
    "fontScale              = 1\n",
    "fontColor              = (255,255,255)\n",
    "lineType               = 2\n",
    "\n",
    "\n",
    "# s = \"dfsdfsdfd /n adsasasdas /n asdasd as\"\n",
    "text = \"This is \\n some text \\n jdshds \\n dkj ds \\n dksfjk ds\"\n",
    "y0, dy = 50, 4\n",
    "for i, line in enumerate(text.split('\\n')):\n",
    "    y = y0 + i*dy\n",
    "#     cv2.putText(img, line, (50, y ), cv2.FONT_HERSHEY_SIMPLEX, 1, 2)\n",
    "    cv2.putText(img,line, (50, y ), font,fontScale,fontColor,lineType)\n",
    "\n",
    "#Display the image\n",
    "cv2.imshow(\"img\",img)\n",
    "\n",
    "#Save image\n",
    "cv2.imwrite(\"out.jpg\", img)\n",
    "\n",
    "cv2.waitKey(0)"
   ]
  },
  {
   "cell_type": "code",
   "execution_count": null,
   "metadata": {},
   "outputs": [],
   "source": [
    "import cv2\n",
    "import numpy as np\n",
    "import matplotlib.pyplot as plt\n",
    "\n",
    "frame = np.ones([400,400,3])*255\n",
    "lbls = ['standUp', 'front', 'lookU', 'lookF', 'lookDF', 'HandOnHipR']\n",
    "\n",
    "offset = 35\n",
    "x,y = 50,50\n",
    "for idx,lbl in enumerate(lbls):\n",
    "    cv2.putText(frame, str(lbl), (x,y+offset*idx), cv2.FONT_HERSHEY_SIMPLEX, 1, (0,0,0), 2)\n",
    "\n",
    "#Display the image\n",
    "cv2.imshow(\"img\",frame)\n",
    "cv2.waitKey(0)"
   ]
  },
  {
   "cell_type": "code",
   "execution_count": null,
   "metadata": {},
   "outputs": [],
   "source": []
  }
 ],
 "metadata": {
  "kernelspec": {
   "display_name": "ctpn",
   "language": "python",
   "name": "ctpn"
  },
  "language_info": {
   "codemirror_mode": {
    "name": "ipython",
    "version": 3
   },
   "file_extension": ".py",
   "mimetype": "text/x-python",
   "name": "python",
   "nbconvert_exporter": "python",
   "pygments_lexer": "ipython3",
   "version": "3.7.0"
  }
 },
 "nbformat": 4,
 "nbformat_minor": 2
}
