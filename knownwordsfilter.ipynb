{
 "cells": [
  {
   "cell_type": "code",
   "execution_count": null,
   "metadata": {},
   "outputs": [],
   "source": [
    "src_str = 'Raja Driving School'\n",
    " \n",
    " \n",
    " \n",
    "sub_index = src_str.find('Driving')\n",
    " \n",
    " \n",
    " \n",
    "print(\"The source string:\" ,src_str)\n",
    " \n",
    "print(\"The position of 'contains' word: \", sub_index)"
   ]
  },
  {
   "cell_type": "code",
   "execution_count": 2,
   "metadata": {},
   "outputs": [
    {
     "name": "stdout",
     "output_type": "stream",
     "text": [
      "The original list is : ['driving', 'license', 'school', 'government', 'nationality', 'date', 'birth', 'issue']\n",
      "All strings with given substring are : []\n"
     ]
    }
   ],
   "source": [
    "# Python code to demonstrate \n",
    "# to find strings with substrings \n",
    "# using re + search() \n",
    "import re \n",
    "\n",
    "# initializing list \n",
    "test_list = ['driving', 'license', 'school', 'government','nationality','date','birth','issue'] \n",
    "\n",
    "# printing original list \n",
    "print (\"The original list is : \" + str(test_list)) \n",
    "\n",
    "# initializing substring \n",
    "subs = ''\n",
    "\n",
    "# using re + search() \n",
    "# to get string with substring \n",
    "res = [x for x in test_list if re.search(x.lower(), subs.lower())] \n",
    "\n",
    "# printing result \n",
    "print (\"All strings with given substring are : \" + str(res)) \n"
   ]
  },
  {
   "cell_type": "code",
   "execution_count": 4,
   "metadata": {},
   "outputs": [
    {
     "name": "stdout",
     "output_type": "stream",
     "text": [
      "{'name': 'Aravind', 'lastname': 'kumar'}\n"
     ]
    }
   ],
   "source": [
    "data = {}\n",
    "data['name'] = \"Aravind\"\n",
    "data['lastname'] = \"kumar\"\n",
    "print(data)"
   ]
  },
  {
   "cell_type": "code",
   "execution_count": 14,
   "metadata": {},
   "outputs": [
    {
     "name": "stdout",
     "output_type": "stream",
     "text": [
      "[{'e_text': 'ARAVIND KUMAR G', 'y_coord': 195}, {'e_text': 'ARAVIND KUMAR G', 'y_coord': 195}, {'e_text': 'GOVINDARAT AM', 'y_coord': 233}, {'e_text': 'GOVINDARAT AM', 'y_coord': 233}]\n"
     ]
    }
   ],
   "source": [
    "lista = [{'e_text': 'ARAVIND KUMAR G', 'y_coord': 195},\n",
    "{'e_text': 'ARAVIND KUMAR G', 'y_coord': 195},\n",
    "{'e_text': 'GOVINDARAT AM', 'y_coord': 233},\n",
    "{'e_text': 'GOVINDARAT AM', 'y_coord': 233}]\n",
    "\n",
    "newlist = sorted(lista, key=lambda x: x['y_coord'])\n",
    "print(newlist)"
   ]
  },
  {
   "cell_type": "code",
   "execution_count": null,
   "metadata": {},
   "outputs": [],
   "source": []
  }
 ],
 "metadata": {
  "kernelspec": {
   "display_name": "ctpn",
   "language": "python",
   "name": "ctpn"
  },
  "language_info": {
   "codemirror_mode": {
    "name": "ipython",
    "version": 3
   },
   "file_extension": ".py",
   "mimetype": "text/x-python",
   "name": "python",
   "nbconvert_exporter": "python",
   "pygments_lexer": "ipython3",
   "version": "3.7.0"
  }
 },
 "nbformat": 4,
 "nbformat_minor": 2
}
