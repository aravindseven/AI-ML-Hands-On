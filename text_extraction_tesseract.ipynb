{
 "cells": [
  {
   "cell_type": "code",
   "execution_count": 1,
   "metadata": {
    "scrolled": true
   },
   "outputs": [
    {
     "name": "stdout",
     "output_type": "stream",
     "text": [
      "All Images displayed\n"
     ]
    }
   ],
   "source": [
    "import glob \n",
    "import cv2\n",
    "import sys\n",
    "from PIL import Image\n",
    "import pytesseract\n",
    "import numpy as np\n",
    "\n",
    "inputFolder = \"/home/nuc-obs-06/projects/Aravind/Workspace/sample_data/driving_license\"\n",
    "outputFolder = \"/home/nuc-obs-06/projects/Aravind/Workspace/Output/license_output\"\n",
    "\n",
    "font                   = cv2.FONT_HERSHEY_PLAIN\n",
    "bottomLeftCornerOfText = (30,30)\n",
    "fontScale              = 1\n",
    "fontColor              = (255,255,255)\n",
    "lineType               = 1\n",
    "for img in glob.glob(inputFolder+'/*.*'):\n",
    "#     imageName = img.rsplit('/')[-1]\n",
    "#     print(a)\n",
    "#     pre_fix=img[:-4]\n",
    "    var_img = cv2.imread(img, cv2.IMREAD_GRAYSCALE)\n",
    "#     cv2.imshow(str(img) , var_img)\n",
    "#     cv2.waitKey(0)\n",
    "#     cv2.destroyAllWindows()\n",
    "    (thresh, im_bw) = cv2.threshold(var_img, 128, 255, cv2.THRESH_BINARY | cv2.THRESH_OTSU)\n",
    "#     cv2.imshow('image',im_bw)\n",
    "#     cv2.waitKey(0)\n",
    "#     cv2.destroyAllWindows()\n",
    "#     crop_img = im_bw[120:430, 220:650]\n",
    "#     cv2.imshow('image',crop_img)\n",
    "#     cv2.waitKey(0)\n",
    "#     cv2.destroyAllWindows()\n",
    "    output = pytesseract.image_to_string(Image.fromarray(im_bw))\n",
    "    lbls = output.rsplit('\\n')\n",
    "#     print(lbls)\n",
    "    offset = 30\n",
    "    x,y = 25,30\n",
    "    outputBoxImg =  np.zeros((600,512,3), np.uint8)\n",
    "    temp = 0\n",
    "    for idx,lbl in enumerate(lbls):\n",
    "#         cv2.putText(outputBoxImg, str(lbl), (x,y+offset*idx), cv2.FONT_HERSHEY_SIMPLEX, 1, (0,0,0), 2)\n",
    "#         print(idx)\n",
    "#         print(\"labels \")\n",
    "#         print(str(lbl))\n",
    "        if str(lbl):\n",
    "            temp = temp + 1\n",
    "#             print(\"inside print\")\n",
    "            cv2.putText(outputBoxImg,str(lbl), \n",
    "            (x,y+offset*temp), \n",
    "            font, \n",
    "            fontScale,\n",
    "            fontColor,\n",
    "            lineType)\n",
    "    cv2.imshow(\"img\",outputBoxImg)\n",
    "    cv2.imshow(str(img) , var_img)\n",
    "    cv2.waitKey(0)\n",
    "    cv2.destroyAllWindows()\n",
    "    \n",
    "    \n",
    "\n",
    "#Display the image\n",
    "\n",
    "#     with open(outputFolder+\"/\"+a+\".txt\",'w') as f: \n",
    "#         f.write(str(output))\n",
    "print(\"All Images displayed\")\n",
    "    \n",
    "    \n",
    "    "
   ]
  },
  {
   "cell_type": "code",
   "execution_count": null,
   "metadata": {},
   "outputs": [],
   "source": []
  },
  {
   "cell_type": "code",
   "execution_count": null,
   "metadata": {},
   "outputs": [],
   "source": []
  }
 ],
 "metadata": {
  "kernelspec": {
   "display_name": "SampleTest1",
   "language": "python",
   "name": "other-env"
  },
  "language_info": {
   "codemirror_mode": {
    "name": "ipython",
    "version": 3
   },
   "file_extension": ".py",
   "mimetype": "text/x-python",
   "name": "python",
   "nbconvert_exporter": "python",
   "pygments_lexer": "ipython3",
   "version": "3.7.4"
  }
 },
 "nbformat": 4,
 "nbformat_minor": 2
}
